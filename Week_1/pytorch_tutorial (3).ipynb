{
 "cells": [
  {
   "cell_type": "markdown",
   "id": "ee4637c0-f868-4a53-b252-21924831205b",
   "metadata": {},
   "source": [
    "<h1 style=\"color:red;\">What is Pytorch?</h1> \n",
    "\n",
    "    \n",
    " PyTorch is a tool that helps you build and train computer models to recognize patterns, like identifying objects in images or understanding language. PyTorch defines a class called Tensor (torch.Tensor) to store and operate on homogeneous multidimensional rectangular arrays of numbers.rch!"
   ]
  },
  {
   "cell_type": "code",
   "execution_count": 1,
   "id": "40f93c17-c967-4abb-9006-0c93e05770b8",
   "metadata": {},
   "outputs": [
    {
     "data": {
      "text/plain": [
       "tensor([[-6.7799e-09,  3.0756e-41, -6.7759e-09],\n",
       "        [ 3.0756e-41,  1.1210e-43,  0.0000e+00]])"
      ]
     },
     "execution_count": 1,
     "metadata": {},
     "output_type": "execute_result"
    }
   ],
   "source": [
    "import torch\n",
    "x= torch.empty(2,3)\n",
    "x"
   ]
  },
  {
   "cell_type": "code",
   "execution_count": 2,
   "id": "59715955-f5f8-4b8c-a782-8be37b9582c6",
   "metadata": {},
   "outputs": [
    {
     "data": {
      "text/plain": [
       "tensor([[0.9574, 0.8304, 0.7130],\n",
       "        [0.0809, 0.5707, 0.8176]])"
      ]
     },
     "execution_count": 2,
     "metadata": {},
     "output_type": "execute_result"
    }
   ],
   "source": [
    "y=torch.rand(2,3)\n",
    "y"
   ]
  },
  {
   "cell_type": "code",
   "execution_count": 3,
   "id": "b12edaaa-fdfb-4fa2-bdcc-d128170d96e7",
   "metadata": {},
   "outputs": [
    {
     "data": {
      "text/plain": [
       "tensor([[0.4426, 0.8664, 0.3959],\n",
       "        [0.9920, 0.9242, 0.0803]])"
      ]
     },
     "execution_count": 3,
     "metadata": {},
     "output_type": "execute_result"
    }
   ],
   "source": [
    "z=torch.rand(2,3)\n",
    "z"
   ]
  },
  {
   "cell_type": "code",
   "execution_count": 4,
   "id": "9bf52fcd-c4ca-4677-b735-6b2914b461b7",
   "metadata": {},
   "outputs": [
    {
     "data": {
      "text/plain": [
       "torch.float64"
      ]
     },
     "execution_count": 4,
     "metadata": {},
     "output_type": "execute_result"
    }
   ],
   "source": [
    "#We can also specify the data type\n",
    "m=torch.ones(2,3, dtype=torch.float64)\n",
    "m.dtype"
   ]
  },
  {
   "cell_type": "code",
   "execution_count": 5,
   "id": "e9db11f3-544e-41e1-b2a3-001a045fe742",
   "metadata": {},
   "outputs": [
    {
     "data": {
      "text/plain": [
       "tensor([[1.4000, 1.6968, 1.1089],\n",
       "        [1.0729, 1.4949, 0.8979]])"
      ]
     },
     "execution_count": 5,
     "metadata": {},
     "output_type": "execute_result"
    }
   ],
   "source": [
    "y+z"
   ]
  },
  {
   "cell_type": "code",
   "execution_count": 6,
   "id": "d1804ef2-0120-435c-977d-3e1f0a461394",
   "metadata": {},
   "outputs": [
    {
     "data": {
      "text/plain": [
       "tensor([[1.4000, 1.6968, 1.1089],\n",
       "        [1.0729, 1.4949, 0.8979]])"
      ]
     },
     "execution_count": 6,
     "metadata": {},
     "output_type": "execute_result"
    }
   ],
   "source": [
    "torch.add(y,z)"
   ]
  },
  {
   "cell_type": "code",
   "execution_count": 7,
   "id": "912013d4-1ef1-423b-a272-e9a365a07991",
   "metadata": {},
   "outputs": [
    {
     "data": {
      "text/plain": [
       "tensor([[1.4000, 1.6968, 1.1089],\n",
       "        [1.0729, 1.4949, 0.8979]])"
      ]
     },
     "execution_count": 7,
     "metadata": {},
     "output_type": "execute_result"
    }
   ],
   "source": [
    "y.add_(z)"
   ]
  },
  {
   "cell_type": "code",
   "execution_count": 8,
   "id": "96368573-8a3e-4107-adad-6168113d9123",
   "metadata": {},
   "outputs": [
    {
     "data": {
      "text/plain": [
       "tensor([[0.9574, 0.8304, 0.7130],\n",
       "        [0.0809, 0.5707, 0.8176]])"
      ]
     },
     "execution_count": 8,
     "metadata": {},
     "output_type": "execute_result"
    }
   ],
   "source": [
    "y-z"
   ]
  },
  {
   "cell_type": "code",
   "execution_count": 9,
   "id": "ba57bdf4-5ce3-4080-92e3-a57ffccd684d",
   "metadata": {},
   "outputs": [
    {
     "data": {
      "text/plain": [
       "tensor([[0.9574, 0.8304, 0.7130],\n",
       "        [0.0809, 0.5707, 0.8176]])"
      ]
     },
     "execution_count": 9,
     "metadata": {},
     "output_type": "execute_result"
    }
   ],
   "source": [
    "torch.sub(y,z)"
   ]
  },
  {
   "cell_type": "code",
   "execution_count": 10,
   "id": "e54b16eb-564b-4551-96ee-79833173d365",
   "metadata": {},
   "outputs": [
    {
     "data": {
      "text/plain": [
       "tensor([[0.6196, 1.4700, 0.4390],\n",
       "        [1.0644, 1.3815, 0.0721]])"
      ]
     },
     "execution_count": 10,
     "metadata": {},
     "output_type": "execute_result"
    }
   ],
   "source": [
    "torch.mul(y,z)"
   ]
  },
  {
   "cell_type": "code",
   "execution_count": 11,
   "id": "aaedf86d-1c5f-49e5-a06f-105dda9e566c",
   "metadata": {},
   "outputs": [
    {
     "name": "stdout",
     "output_type": "stream",
     "text": [
      "tensor([[0.6463, 0.2005, 0.7957],\n",
      "        [0.0374, 0.9845, 0.4592],\n",
      "        [0.9075, 0.4644, 0.7022],\n",
      "        [0.5143, 0.9499, 0.2334],\n",
      "        [0.7156, 0.5222, 0.1222]])\n",
      "tensor([[0.2005, 0.7957],\n",
      "        [0.9845, 0.4592],\n",
      "        [0.4644, 0.7022],\n",
      "        [0.9499, 0.2334],\n",
      "        [0.5222, 0.1222]])\n",
      "tensor([[0.6463],\n",
      "        [0.0374],\n",
      "        [0.9075],\n",
      "        [0.5143],\n",
      "        [0.7156]])\n"
     ]
    }
   ],
   "source": [
    "# Lets print all the rows but one column and similarly all the column with 1 row\n",
    "k=torch.rand(5,3)\n",
    "print(k)\n",
    "print(k[:,1:])\n",
    "print(k[:,[0]])"
   ]
  },
  {
   "cell_type": "code",
   "execution_count": 12,
   "id": "31581c30-39ca-4e44-86fd-25d18f2c91dc",
   "metadata": {},
   "outputs": [
    {
     "data": {
      "text/plain": [
       "0.6462954878807068"
      ]
     },
     "execution_count": 12,
     "metadata": {},
     "output_type": "execute_result"
    }
   ],
   "source": [
    "# We can get the actual value of the particular row and column we can use .item()\n",
    "k[0,0].item()"
   ]
  },
  {
   "cell_type": "code",
   "execution_count": 13,
   "id": "02a3e94c-689b-48fe-8e29-b131e3445f78",
   "metadata": {},
   "outputs": [
    {
     "data": {
      "text/plain": [
       "tensor([[1., 1., 1., 1., 1.]])"
      ]
     },
     "execution_count": 13,
     "metadata": {},
     "output_type": "execute_result"
    }
   ],
   "source": [
    "#convert a tensor into numpy array\n",
    "import numpy as np\n",
    "a= torch.ones(1,5)\n",
    "b= a.numpy()\n",
    "a\n"
   ]
  },
  {
   "cell_type": "code",
   "execution_count": 14,
   "id": "bbc1d3ee-3a96-4d38-854f-f311b79c709d",
   "metadata": {},
   "outputs": [
    {
     "data": {
      "text/plain": [
       "array([[1., 1., 1., 1., 1.]], dtype=float32)"
      ]
     },
     "execution_count": 14,
     "metadata": {},
     "output_type": "execute_result"
    }
   ],
   "source": [
    "b"
   ]
  },
  {
   "cell_type": "code",
   "execution_count": 15,
   "id": "d1bb3b81-dff1-4428-9808-c531a3d98bbb",
   "metadata": {},
   "outputs": [
    {
     "data": {
      "text/plain": [
       "tensor([1., 1., 1., 1., 1.], dtype=torch.float64)"
      ]
     },
     "execution_count": 15,
     "metadata": {},
     "output_type": "execute_result"
    }
   ],
   "source": [
    "#Convert a numpy array to a tensor\n",
    "c=np.ones(5)\n",
    "d=torch.from_numpy(c)\n",
    "d"
   ]
  },
  {
   "cell_type": "code",
   "execution_count": 16,
   "id": "ac9324c8-2444-4df0-94a5-c915de6c3d29",
   "metadata": {},
   "outputs": [
    {
     "data": {
      "text/plain": [
       "tensor([[1., 1., 1., 1.],\n",
       "        [1., 1., 1., 1.],\n",
       "        [1., 1., 1., 1.]], requires_grad=True)"
      ]
     },
     "execution_count": 16,
     "metadata": {},
     "output_type": "execute_result"
    }
   ],
   "source": [
    "# sometimes when the tensor is defined there is an argument requires_grad=True, by default it is false, it helps in optimization later on\n",
    "e=torch.ones(3,4, requires_grad=True)\n",
    "e"
   ]
  },
  {
   "cell_type": "markdown",
   "id": "5808756d-c952-4f1f-bc54-1887f5f4743d",
   "metadata": {},
   "source": [
    "<span style=\"color:#FF5733\">This section will talk about the autograd and how we can calculate gradients from it. Gradient is important for optimization. "
   ]
  },
  {
   "cell_type": "code",
   "execution_count": 17,
   "id": "4d4c2182-a54e-46ff-9d1b-686651327473",
   "metadata": {},
   "outputs": [
    {
     "data": {
      "text/plain": [
       "tensor([0.7178, 0.9327, 1.1487], requires_grad=True)"
      ]
     },
     "execution_count": 17,
     "metadata": {},
     "output_type": "execute_result"
    }
   ],
   "source": [
    "x1=torch.randn(3, requires_grad=True)\n",
    "x1"
   ]
  },
  {
   "cell_type": "markdown",
   "id": "c2ab1007-5b6b-4e79-9bdd-cbfb69ce244d",
   "metadata": {},
   "source": [
    "<span style=\"color:blue\">The requires_grad=True argument tells PyTorch that we want to compute gradients with respect to this tensor during backpropagation"
   ]
  },
  {
   "cell_type": "code",
   "execution_count": 18,
   "id": "ed27b164-7008-4893-9d62-b317157073a9",
   "metadata": {},
   "outputs": [
    {
     "data": {
      "text/plain": [
       "tensor([2.7178, 2.9327, 3.1487], grad_fn=<AddBackward0>)"
      ]
     },
     "execution_count": 18,
     "metadata": {},
     "output_type": "execute_result"
    }
   ],
   "source": [
    "y1=x1+2\n",
    "y1"
   ]
  },
  {
   "cell_type": "markdown",
   "id": "ab0fd0af-8320-4a89-bc49-b1ff47fad5eb",
   "metadata": {},
   "source": [
    "<span style=\"color:blue\">grad_fn tells you that y1 was created by an addition operation, and PyTorch has recorded this operation as part of the computation graph enabling PyTorch to efficiently compute gradients"
   ]
  },
  {
   "cell_type": "code",
   "execution_count": 19,
   "id": "ab57b407-e6b2-4822-ba3b-84008f15c84e",
   "metadata": {},
   "outputs": [
    {
     "data": {
      "text/plain": [
       "tensor([1.0304, 1.7400, 2.6389], grad_fn=<MulBackward0>)"
      ]
     },
     "execution_count": 19,
     "metadata": {},
     "output_type": "execute_result"
    }
   ],
   "source": [
    "y2=x1*x1*2\n",
    "y2"
   ]
  },
  {
   "cell_type": "code",
   "execution_count": 20,
   "id": "0ea0c9a4-132b-41c9-aa59-2dda623d8bc7",
   "metadata": {},
   "outputs": [
    {
     "data": {
      "text/plain": [
       "tensor(1.8031, grad_fn=<MeanBackward0>)"
      ]
     },
     "execution_count": 20,
     "metadata": {},
     "output_type": "execute_result"
    }
   ],
   "source": [
    "y3= y2.mean()\n",
    "y3"
   ]
  },
  {
   "cell_type": "markdown",
   "id": "c727b099-dfc9-4380-9bc9-acaedcf04091",
   "metadata": {},
   "source": [
    "<span style=\"color:blue\">To calculate the gradient, all we need to now do is y3.backward() which will do dy3/dx1.. For scalar , no argument is needed but for vector we need to put the argument as same size as x1 "
   ]
  },
  {
   "cell_type": "code",
   "execution_count": 21,
   "id": "ec956d73-13b5-4abb-bf64-c94002aa6af1",
   "metadata": {},
   "outputs": [],
   "source": [
    "#y3.backward() # for scalar\n"
   ]
  },
  {
   "cell_type": "code",
   "execution_count": 22,
   "id": "05a55db3-5aae-4b46-badf-0a4e121d9406",
   "metadata": {},
   "outputs": [],
   "source": [
    "v= torch.tensor([0.1,0.02,0.003], dtype=torch.float32)\n",
    "y2.backward(v) #for vector"
   ]
  },
  {
   "cell_type": "code",
   "execution_count": 23,
   "id": "8a4e8a4d-886b-4732-9c8b-62d4207d99c5",
   "metadata": {},
   "outputs": [
    {
     "data": {
      "text/plain": [
       "tensor([0.2871, 0.0746, 0.0138])"
      ]
     },
     "execution_count": 23,
     "metadata": {},
     "output_type": "execute_result"
    }
   ],
   "source": [
    "x1.grad"
   ]
  },
  {
   "cell_type": "markdown",
   "id": "b31c0c3a-8170-478a-90e3-561b9e6b55d4",
   "metadata": {},
   "source": [
    "<span style=\"color:blue\">Let's say now that we don't want the requires_grad=true, so that pytorch wont track the history in computational graph: \n",
    "We essentially have three options: \n",
    "1) x1.requires_grad_(False), remember that whenever there is underscore _ it will modify the variable in place\n",
    "2) x.detach()\n",
    "3) with torch.no_grad()"
   ]
  },
  {
   "cell_type": "code",
   "execution_count": 24,
   "id": "ea2cb373-6ffe-460b-bb86-ab688c3fe63b",
   "metadata": {},
   "outputs": [
    {
     "data": {
      "text/plain": [
       "tensor([0.7178, 0.9327, 1.1487])"
      ]
     },
     "execution_count": 24,
     "metadata": {},
     "output_type": "execute_result"
    }
   ],
   "source": [
    "x1.requires_grad_(False)\n",
    "x1"
   ]
  },
  {
   "cell_type": "code",
   "execution_count": 25,
   "id": "d6c23d53-06e3-4751-b612-0070778e0415",
   "metadata": {},
   "outputs": [
    {
     "data": {
      "text/plain": [
       "tensor([1.0304, 1.7400, 2.6389])"
      ]
     },
     "execution_count": 25,
     "metadata": {},
     "output_type": "execute_result"
    }
   ],
   "source": [
    "y2.detach()\n"
   ]
  },
  {
   "cell_type": "markdown",
   "id": "cb73806a-7d3b-4ba4-9752-14a5ad80e014",
   "metadata": {},
   "source": [
    "<span style=\"color:blue\">Let's look at the trainning iteration where we want to make sure that for each iteration the x1.grad computes the same value. It is done by setting the grad value to zero after each iteration."
   ]
  },
  {
   "cell_type": "code",
   "execution_count": 26,
   "id": "947a5209-d974-4e3a-8ee9-11098f52df90",
   "metadata": {},
   "outputs": [
    {
     "name": "stdout",
     "output_type": "stream",
     "text": [
      "tensor([3., 3., 3., 3.])\n",
      "tensor([6., 6., 6., 6.])\n",
      "tensor([9., 9., 9., 9.])\n"
     ]
    }
   ],
   "source": [
    "weights=torch.ones(4, requires_grad=True)\n",
    "for epoch in range(3):\n",
    "    model_output=(weights*3).sum()\n",
    "    model_output.backward()\n",
    "    print(weights.grad)"
   ]
  },
  {
   "cell_type": "code",
   "execution_count": 27,
   "id": "98ec7d2a-5a8e-4fcd-a82c-cd460eb397c4",
   "metadata": {},
   "outputs": [
    {
     "name": "stdout",
     "output_type": "stream",
     "text": [
      "tensor([3., 3., 3., 3.])\n",
      "tensor([3., 3., 3., 3.])\n",
      "tensor([3., 3., 3., 3.])\n"
     ]
    }
   ],
   "source": [
    "weights=torch.ones(4, requires_grad=True)\n",
    "for epoch in range(3):\n",
    "    model_output=(weights*3).sum()\n",
    "    model_output.backward()\n",
    "    print(weights.grad)\n",
    "    weights.grad.zero_()"
   ]
  },
  {
   "cell_type": "markdown",
   "id": "c85ca09e-2c74-4572-b471-c9d2c3ab2634",
   "metadata": {},
   "source": [
    "<span style=\"color:red\"> Backpropagation"
   ]
  },
  {
   "cell_type": "code",
   "execution_count": 28,
   "id": "4212f9f7-af1d-412c-ba0a-d95427a0571b",
   "metadata": {},
   "outputs": [
    {
     "name": "stdout",
     "output_type": "stream",
     "text": [
      "tensor(1., grad_fn=<PowBackward0>)\n",
      "tensor(-2.)\n"
     ]
    }
   ],
   "source": [
    "import torch\n",
    "x=torch.tensor(1.0)\n",
    "y=torch.tensor(2.0)\n",
    "\n",
    "w=torch.tensor(1.0, requires_grad=True)\n",
    "\n",
    "#Forward pass and  compute the loss\n",
    "y_hat=w*x\n",
    "loss=(y_hat-y)**2\n",
    "\n",
    "print(loss)\n",
    "\n",
    "#Backward pass\n",
    "\n",
    "loss.backward()\n",
    "print(w.grad)\n",
    "\n",
    "## update weights\n",
    "\n"
   ]
  },
  {
   "cell_type": "markdown",
   "id": "7ae8f7c4-67ec-4029-8f81-f10617cd371f",
   "metadata": {},
   "source": [
    "# Homework #1\r\n",
    "\r\n",
    "Please use the above information to do the following things:\r\n",
    "\r\n",
    "## **Tensor Operations:**\r\n",
    "1. **Create a 4x4 tensor with random values.**\r\n",
    "2. **Add a tensor of ones to this tensor and then multiply the result by 2.**\r\n",
    "3. **Extract the second column from the resulting tensor.**\r\n",
    "\r\n",
    "## **Conversion between Tensor and NumPy Array:**\r\n",
    "1. **Create a tensor of size (2, 4) filled with ones and convert it to a NumPy array.**\r\n",
    "2. **Modify the tensor so that it no longer requires gradient computation.**\r\n",
    "\r\n",
    "## **Gradient Computation:**\r\n",
    "1. **Define a 2x2 tensor with `requires_grad=True`.**\r\n",
    "2. **Perform a simple operation like addition or multiplication on this tensor.**\r\n",
    "3. **Compute the mean of the resulting tensor.**\r\n",
    "4. **Calculate the gradient with respect to the original tensor using the `.backward()` method.**\r\n",
    "\r\n",
    "## **Backpropagation and Weight Updates:**\r\n",
    "1. **Simulate a simple training loop for 4 epochs where the model predicts a value based on a weight.**\r\n",
    "2. **Initialize the weight as 1.0 with `requires_grad=True`.**\r\n",
    "3. **For each epoch, compute the loss, backpropagate the gradients, and update the weight.**\r\n",
    "4. **Print the weight gradients after each epoch.**\r\n",
    "5. **Ensure that the gradients are reset to zero after each update.**\r\n"
   ]
  },
  {
   "cell_type": "code",
   "execution_count": null,
   "id": "d783e9f1-c675-44ed-9eff-a64f6d7455c9",
   "metadata": {},
   "outputs": [],
   "source": []
  }
 ],
 "metadata": {
  "kernelspec": {
   "display_name": "Python [conda env:Coffea-Santosh]",
   "language": "python",
   "name": "conda-env-Coffea-Santosh-py"
  },
  "language_info": {
   "codemirror_mode": {
    "name": "ipython",
    "version": 3
   },
   "file_extension": ".py",
   "mimetype": "text/x-python",
   "name": "python",
   "nbconvert_exporter": "python",
   "pygments_lexer": "ipython3",
   "version": "3.10.14"
  }
 },
 "nbformat": 4,
 "nbformat_minor": 5
}
