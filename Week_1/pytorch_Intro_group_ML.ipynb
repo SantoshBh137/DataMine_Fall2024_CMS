{
 "cells": [
  {
   "cell_type": "markdown",
   "id": "ee4637c0-f868-4a53-b252-21924831205b",
   "metadata": {},
   "source": [
    "<h1 style=\"color:red;\">What is Pytorch?</h1> \n",
    "\n",
    "    \n",
    " PyTorch is a tool that helps you build and train computer models to recognize patterns, like identifying objects in images or understanding language. PyTorch defines a class called Tensor (torch.Tensor) to store and operate on homogeneous multidimensional rectangular arrays of numbers.rch!"
   ]
  },
  {
   "cell_type": "code",
   "execution_count": 1,
   "id": "40f93c17-c967-4abb-9006-0c93e05770b8",
   "metadata": {},
   "outputs": [
    {
     "data": {
      "text/plain": [
       "tensor([[-6.7799e-09,  3.0756e-41, -6.7759e-09],\n",
       "        [ 3.0756e-41,  1.1210e-43,  0.0000e+00]])"
      ]
     },
     "execution_count": 1,
     "metadata": {},
     "output_type": "execute_result"
    }
   ],
   "source": [
    "import torch\n",
    "x= torch.empty(2,3)\n",
    "x"
   ]
  },
  {
   "cell_type": "code",
   "execution_count": 2,
   "id": "59715955-f5f8-4b8c-a782-8be37b9582c6",
   "metadata": {},
   "outputs": [
    {
     "data": {
      "text/plain": [
       "tensor([[0.9574, 0.8304, 0.7130],\n",
       "        [0.0809, 0.5707, 0.8176]])"
      ]
     },
     "execution_count": 2,
     "metadata": {},
     "output_type": "execute_result"
    }
   ],
   "source": [
    "y=torch.rand(2,3)\n",
    "y"
   ]
  },
  {
   "cell_type": "code",
   "execution_count": 3,
   "id": "b12edaaa-fdfb-4fa2-bdcc-d128170d96e7",
   "metadata": {},
   "outputs": [
    {
     "data": {
      "text/plain": [
       "tensor([[0.4426, 0.8664, 0.3959],\n",
       "        [0.9920, 0.9242, 0.0803]])"
      ]
     },
     "execution_count": 3,
     "metadata": {},
     "output_type": "execute_result"
    }
   ],
   "source": [
    "z=torch.rand(2,3)\n",
    "z"
   ]
  },
  {
   "cell_type": "code",
   "execution_count": 4,
   "id": "9bf52fcd-c4ca-4677-b735-6b2914b461b7",
   "metadata": {},
   "outputs": [
    {
     "data": {
      "text/plain": [
       "torch.float64"
      ]
     },
     "execution_count": 4,
     "metadata": {},
     "output_type": "execute_result"
    }
   ],
   "source": [
    "#We can also specify the data type\n",
    "m=torch.ones(2,3, dtype=torch.float64)\n",
    "m.dtype"
   ]
  },
  {
   "cell_type": "code",
   "execution_count": 5,
   "id": "e9db11f3-544e-41e1-b2a3-001a045fe742",
   "metadata": {},
   "outputs": [
    {
     "data": {
      "text/plain": [
       "tensor([[1.4000, 1.6968, 1.1089],\n",
       "        [1.0729, 1.4949, 0.8979]])"
      ]
     },
     "execution_count": 5,
     "metadata": {},
     "output_type": "execute_result"
    }
   ],
   "source": [
    "y+z"
   ]
  },
  {
   "cell_type": "code",
   "execution_count": 6,
   "id": "d1804ef2-0120-435c-977d-3e1f0a461394",
   "metadata": {},
   "outputs": [
    {
     "data": {
      "text/plain": [
       "tensor([[1.4000, 1.6968, 1.1089],\n",
       "        [1.0729, 1.4949, 0.8979]])"
      ]
     },
     "execution_count": 6,
     "metadata": {},
     "output_type": "execute_result"
    }
   ],
   "source": [
    "torch.add(y,z)"
   ]
  },
  {
   "cell_type": "code",
   "execution_count": 7,
   "id": "912013d4-1ef1-423b-a272-e9a365a07991",
   "metadata": {},
   "outputs": [
    {
     "data": {
      "text/plain": [
       "tensor([[1.4000, 1.6968, 1.1089],\n",
       "        [1.0729, 1.4949, 0.8979]])"
      ]
     },
     "execution_count": 7,
     "metadata": {},
     "output_type": "execute_result"
    }
   ],
   "source": [
    "y.add_(z)"
   ]
  },
  {
   "cell_type": "code",
   "execution_count": 8,
   "id": "96368573-8a3e-4107-adad-6168113d9123",
   "metadata": {},
   "outputs": [
    {
     "data": {
      "text/plain": [
       "tensor([[0.9574, 0.8304, 0.7130],\n",
       "        [0.0809, 0.5707, 0.8176]])"
      ]
     },
     "execution_count": 8,
     "metadata": {},
     "output_type": "execute_result"
    }
   ],
   "source": [
    "y-z"
   ]
  },
  {
   "cell_type": "code",
   "execution_count": 9,
   "id": "ba57bdf4-5ce3-4080-92e3-a57ffccd684d",
   "metadata": {},
   "outputs": [
    {
     "data": {
      "text/plain": [
       "tensor([[0.9574, 0.8304, 0.7130],\n",
       "        [0.0809, 0.5707, 0.8176]])"
      ]
     },
     "execution_count": 9,
     "metadata": {},
     "output_type": "execute_result"
    }
   ],
   "source": [
    "torch.sub(y,z)"
   ]
  },
  {
   "cell_type": "code",
   "execution_count": 10,
   "id": "e54b16eb-564b-4551-96ee-79833173d365",
   "metadata": {},
   "outputs": [
    {
     "data": {
      "text/plain": [
       "tensor([[0.6196, 1.4700, 0.4390],\n",
       "        [1.0644, 1.3815, 0.0721]])"
      ]
     },
     "execution_count": 10,
     "metadata": {},
     "output_type": "execute_result"
    }
   ],
   "source": [
    "torch.mul(y,z)"
   ]
  },
  {
   "cell_type": "code",
   "execution_count": 11,
   "id": "aaedf86d-1c5f-49e5-a06f-105dda9e566c",
   "metadata": {},
   "outputs": [
    {
     "name": "stdout",
     "output_type": "stream",
     "text": [
      "tensor([[0.6463, 0.2005, 0.7957],\n",
      "        [0.0374, 0.9845, 0.4592],\n",
      "        [0.9075, 0.4644, 0.7022],\n",
      "        [0.5143, 0.9499, 0.2334],\n",
      "        [0.7156, 0.5222, 0.1222]])\n",
      "tensor([[0.2005, 0.7957],\n",
      "        [0.9845, 0.4592],\n",
      "        [0.4644, 0.7022],\n",
      "        [0.9499, 0.2334],\n",
      "        [0.5222, 0.1222]])\n",
      "tensor([[0.6463],\n",
      "        [0.0374],\n",
      "        [0.9075],\n",
      "        [0.5143],\n",
      "        [0.7156]])\n"
     ]
    }
   ],
   "source": [
    "# Lets print all the rows but one column and similarly all the column with 1 row\n",
    "k=torch.rand(5,3)\n",
    "print(k)\n",
    "print(k[:,1:])\n",
    "print(k[:,[0]])"
   ]
  },
  {
   "cell_type": "code",
   "execution_count": 12,
   "id": "31581c30-39ca-4e44-86fd-25d18f2c91dc",
   "metadata": {},
   "outputs": [
    {
     "data": {
      "text/plain": [
       "0.6462954878807068"
      ]
     },
     "execution_count": 12,
     "metadata": {},
     "output_type": "execute_result"
    }
   ],
   "source": [
    "# We can get the actual value of the particular row and column we can use .item()\n",
    "k[0,0].item()"
   ]
  },
  {
   "cell_type": "code",
   "execution_count": 13,
   "id": "02a3e94c-689b-48fe-8e29-b131e3445f78",
   "metadata": {},
   "outputs": [
    {
     "data": {
      "text/plain": [
       "tensor([[1., 1., 1., 1., 1.]])"
      ]
     },
     "execution_count": 13,
     "metadata": {},
     "output_type": "execute_result"
    }
   ],
   "source": [
    "#convert a tensor into numpy array\n",
    "import numpy as np\n",
    "a= torch.ones(1,5)\n",
    "b= a.numpy()\n",
    "a\n"
   ]
  },
  {
   "cell_type": "code",
   "execution_count": 14,
   "id": "bbc1d3ee-3a96-4d38-854f-f311b79c709d",
   "metadata": {},
   "outputs": [
    {
     "data": {
      "text/plain": [
       "array([[1., 1., 1., 1., 1.]], dtype=float32)"
      ]
     },
     "execution_count": 14,
     "metadata": {},
     "output_type": "execute_result"
    }
   ],
   "source": [
    "b"
   ]
  },
  {
   "cell_type": "code",
   "execution_count": 15,
   "id": "d1bb3b81-dff1-4428-9808-c531a3d98bbb",
   "metadata": {},
   "outputs": [
    {
     "data": {
      "text/plain": [
       "tensor([1., 1., 1., 1., 1.], dtype=torch.float64)"
      ]
     },
     "execution_count": 15,
     "metadata": {},
     "output_type": "execute_result"
    }
   ],
   "source": [
    "#Convert a numpy array to a tensor\n",
    "c=np.ones(5)\n",
    "d=torch.from_numpy(c)\n",
    "d"
   ]
  },
  {
   "cell_type": "code",
   "execution_count": 16,
   "id": "ac9324c8-2444-4df0-94a5-c915de6c3d29",
   "metadata": {},
   "outputs": [
    {
     "data": {
      "text/plain": [
       "tensor([[1., 1., 1., 1.],\n",
       "        [1., 1., 1., 1.],\n",
       "        [1., 1., 1., 1.]], requires_grad=True)"
      ]
     },
     "execution_count": 16,
     "metadata": {},
     "output_type": "execute_result"
    }
   ],
   "source": [
    "# sometimes when the tensor is defined there is an argument requires_grad=True, by default it is false, it helps in optimization later on\n",
    "e=torch.ones(3,4, requires_grad=True)\n",
    "e"
   ]
  },
  {
   "cell_type": "markdown",
   "id": "5808756d-c952-4f1f-bc54-1887f5f4743d",
   "metadata": {},
   "source": [
    "<span style=\"color:#FF5733\">This section will talk about the autograd and how we can calculate gradients from it. Gradient is important for optimization. "
   ]
  },
  {
   "cell_type": "code",
   "execution_count": 17,
   "id": "4d4c2182-a54e-46ff-9d1b-686651327473",
   "metadata": {},
   "outputs": [
    {
     "data": {
      "text/plain": [
       "tensor([0.7178, 0.9327, 1.1487], requires_grad=True)"
      ]
     },
     "execution_count": 17,
     "metadata": {},
     "output_type": "execute_result"
    }
   ],
   "source": [
    "x1=torch.randn(3, requires_grad=True)\n",
    "x1"
   ]
  },
  {
   "cell_type": "markdown",
   "id": "c2ab1007-5b6b-4e79-9bdd-cbfb69ce244d",
   "metadata": {},
   "source": [
    "<span style=\"color:blue\">The requires_grad=True argument tells PyTorch that we want to compute gradients with respect to this tensor during backpropagation"
   ]
  },
  {
   "cell_type": "code",
   "execution_count": 18,
   "id": "ed27b164-7008-4893-9d62-b317157073a9",
   "metadata": {},
   "outputs": [
    {
     "data": {
      "text/plain": [
       "tensor([2.7178, 2.9327, 3.1487], grad_fn=<AddBackward0>)"
      ]
     },
     "execution_count": 18,
     "metadata": {},
     "output_type": "execute_result"
    }
   ],
   "source": [
    "y1=x1+2\n",
    "y1"
   ]
  },
  {
   "cell_type": "markdown",
   "id": "ab0fd0af-8320-4a89-bc49-b1ff47fad5eb",
   "metadata": {},
   "source": [
    "<span style=\"color:blue\">grad_fn tells you that y1 was created by an addition operation, and PyTorch has recorded this operation as part of the computation graph enabling PyTorch to efficiently compute gradients"
   ]
  },
  {
   "cell_type": "code",
   "execution_count": 19,
   "id": "ab57b407-e6b2-4822-ba3b-84008f15c84e",
   "metadata": {},
   "outputs": [
    {
     "data": {
      "text/plain": [
       "tensor([1.0304, 1.7400, 2.6389], grad_fn=<MulBackward0>)"
      ]
     },
     "execution_count": 19,
     "metadata": {},
     "output_type": "execute_result"
    }
   ],
   "source": [
    "y2=x1*x1*2\n",
    "y2"
   ]
  },
  {
   "cell_type": "code",
   "execution_count": 20,
   "id": "0ea0c9a4-132b-41c9-aa59-2dda623d8bc7",
   "metadata": {},
   "outputs": [
    {
     "data": {
      "text/plain": [
       "tensor(1.8031, grad_fn=<MeanBackward0>)"
      ]
     },
     "execution_count": 20,
     "metadata": {},
     "output_type": "execute_result"
    }
   ],
   "source": [
    "y3= y2.mean()\n",
    "y3"
   ]
  },
  {
   "cell_type": "markdown",
   "id": "c727b099-dfc9-4380-9bc9-acaedcf04091",
   "metadata": {},
   "source": [
    "<span style=\"color:blue\">To calculate the gradient, all we need to now do is y3.backward() which will do dy3/dx1.. For scalar , no argument is needed but for vector we need to put the argument as same size as x1 "
   ]
  },
  {
   "cell_type": "code",
   "execution_count": 21,
   "id": "ec956d73-13b5-4abb-bf64-c94002aa6af1",
   "metadata": {},
   "outputs": [],
   "source": [
    "#y3.backward() # for scalar\n"
   ]
  },
  {
   "cell_type": "code",
   "execution_count": 22,
   "id": "05a55db3-5aae-4b46-badf-0a4e121d9406",
   "metadata": {},
   "outputs": [],
   "source": [
    "v= torch.tensor([0.1,0.02,0.003], dtype=torch.float32)\n",
    "y2.backward(v) #for vector"
   ]
  },
  {
   "cell_type": "code",
   "execution_count": 23,
   "id": "8a4e8a4d-886b-4732-9c8b-62d4207d99c5",
   "metadata": {},
   "outputs": [
    {
     "data": {
      "text/plain": [
       "tensor([0.2871, 0.0746, 0.0138])"
      ]
     },
     "execution_count": 23,
     "metadata": {},
     "output_type": "execute_result"
    }
   ],
   "source": [
    "x1.grad"
   ]
  },
  {
   "cell_type": "markdown",
   "id": "b31c0c3a-8170-478a-90e3-561b9e6b55d4",
   "metadata": {},
   "source": [
    "<span style=\"color:blue\">Let's say now that we don't want the requires_grad=true, so that pytorch wont track the history in computational graph: \n",
    "We essentially have three options: \n",
    "1) x1.requires_grad_(False), remember that whenever there is underscore _ it will modify the variable in place\n",
    "2) x.detach()\n",
    "3) with torch.no_grad()"
   ]
  },
  {
   "cell_type": "code",
   "execution_count": 24,
   "id": "ea2cb373-6ffe-460b-bb86-ab688c3fe63b",
   "metadata": {},
   "outputs": [
    {
     "data": {
      "text/plain": [
       "tensor([0.7178, 0.9327, 1.1487])"
      ]
     },
     "execution_count": 24,
     "metadata": {},
     "output_type": "execute_result"
    }
   ],
   "source": [
    "x1.requires_grad_(False)\n",
    "x1"
   ]
  },
  {
   "cell_type": "code",
   "execution_count": 25,
   "id": "d6c23d53-06e3-4751-b612-0070778e0415",
   "metadata": {},
   "outputs": [
    {
     "data": {
      "text/plain": [
       "tensor([1.0304, 1.7400, 2.6389])"
      ]
     },
     "execution_count": 25,
     "metadata": {},
     "output_type": "execute_result"
    }
   ],
   "source": [
    "y2.detach()\n"
   ]
  },
  {
   "cell_type": "markdown",
   "id": "cb73806a-7d3b-4ba4-9752-14a5ad80e014",
   "metadata": {},
   "source": [
    "<span style=\"color:blue\">Let's look at the trainning iteration where we want to make sure that for each iteration the x1.grad computes the same value. It is done by setting the grad value to zero after each iteration."
   ]
  },
  {
   "cell_type": "code",
   "execution_count": 26,
   "id": "947a5209-d974-4e3a-8ee9-11098f52df90",
   "metadata": {},
   "outputs": [
    {
     "name": "stdout",
     "output_type": "stream",
     "text": [
      "tensor([3., 3., 3., 3.])\n",
      "tensor([6., 6., 6., 6.])\n",
      "tensor([9., 9., 9., 9.])\n"
     ]
    }
   ],
   "source": [
    "weights=torch.ones(4, requires_grad=True)\n",
    "for epoch in range(3):\n",
    "    model_output=(weights*3).sum()\n",
    "    model_output.backward()\n",
    "    print(weights.grad)"
   ]
  },
  {
   "cell_type": "code",
   "execution_count": 27,
   "id": "98ec7d2a-5a8e-4fcd-a82c-cd460eb397c4",
   "metadata": {},
   "outputs": [
    {
     "name": "stdout",
     "output_type": "stream",
     "text": [
      "tensor([3., 3., 3., 3.])\n",
      "tensor([3., 3., 3., 3.])\n",
      "tensor([3., 3., 3., 3.])\n"
     ]
    }
   ],
   "source": [
    "weights=torch.ones(4, requires_grad=True)\n",
    "for epoch in range(3):\n",
    "    model_output=(weights*3).sum()\n",
    "    model_output.backward()\n",
    "    print(weights.grad)\n",
    "    weights.grad.zero_()"
   ]
  },
  {
   "cell_type": "markdown",
   "id": "c85ca09e-2c74-4572-b471-c9d2c3ab2634",
   "metadata": {},
   "source": [
    "<span style=\"color:red\"> Backpropagation"
   ]
  },
  {
   "cell_type": "code",
   "execution_count": 28,
   "id": "4212f9f7-af1d-412c-ba0a-d95427a0571b",
   "metadata": {},
   "outputs": [
    {
     "name": "stdout",
     "output_type": "stream",
     "text": [
      "tensor(1., grad_fn=<PowBackward0>)\n",
      "tensor(-2.)\n"
     ]
    }
   ],
   "source": [
    "import torch\n",
    "x=torch.tensor(1.0)\n",
    "y=torch.tensor(2.0)\n",
    "\n",
    "w=torch.tensor(1.0, requires_grad=True)\n",
    "\n",
    "#Forward pass and  compute the loss\n",
    "y_hat=w*x\n",
    "loss=(y_hat-y)**2\n",
    "\n",
    "print(loss)\n",
    "\n",
    "#Backward pass\n",
    "\n",
    "loss.backward()\n",
    "print(w.grad)\n",
    "\n",
    "## update weights\n",
    "\n"
   ]
  },
  {
   "cell_type": "markdown",
   "id": "b658e836-0c3c-4075-85cd-51df3b2bfd51",
   "metadata": {},
   "source": [
    "<span style=\"color:blue\"> For this part we will do everything manually only using numpy array and then translate the idea to pytorch ... We will start with our prediction and then compute gradient and then the loss and finally update the parameter\n"
   ]
  },
  {
   "cell_type": "code",
   "execution_count": 29,
   "id": "747afc5f-597f-4b40-8a87-6ad8657694c0",
   "metadata": {},
   "outputs": [
    {
     "name": "stdout",
     "output_type": "stream",
     "text": [
      "Prediction before training: f(5)=0.000\n",
      "epoch1: w=1.200, loss= 30.00000000\n",
      "epoch3: w=1.872, loss= 0.76800019\n",
      "epoch5: w=1.980, loss= 0.01966083\n",
      "epoch7: w=1.997, loss= 0.00050331\n",
      "epoch9: w=1.999, loss= 0.00001288\n",
      "epoch11: w=2.000, loss= 0.00000033\n",
      "epoch13: w=2.000, loss= 0.00000001\n",
      "epoch15: w=2.000, loss= 0.00000000\n",
      "epoch17: w=2.000, loss= 0.00000000\n",
      "epoch19: w=2.000, loss= 0.00000000\n",
      "epoch21: w=2.000, loss= 0.00000000\n",
      "epoch23: w=2.000, loss= 0.00000000\n",
      "epoch25: w=2.000, loss= 0.00000000\n",
      "epoch27: w=2.000, loss= 0.00000000\n",
      "epoch29: w=2.000, loss= 0.00000000\n",
      "Prediction after training : f(5) = 10.000\n"
     ]
    }
   ],
   "source": [
    "import numpy as np \n",
    "\n",
    "# f=w*x\n",
    "X=np.array([1,2,3,4], dtype=np.float32)\n",
    "Y=np.array([2,4,6,8], dtype=np.float32)\n",
    "\n",
    "w=0.0\n",
    "\n",
    "#model prediction\n",
    "def forward(x): \n",
    "    return w*x\n",
    "\n",
    "#loss =MSE\n",
    "\n",
    "def loss(y,y_predicted):\n",
    "    return((y_predicted-y)**2).mean()\n",
    "\n",
    "#gradient : \n",
    "def gradient(x,y,y_predicted):\n",
    "    return np.dot(2*x,y_predicted-y).mean()\n",
    "\n",
    "print(f'Prediction before training: f(5)={forward(5):.3f}')\n",
    "\n",
    "#Training\n",
    "learning_rate = 0.01\n",
    "n_iters=30\n",
    "\n",
    "for epoch in range(n_iters):\n",
    "    #prediction=forward pass \n",
    "    y_pred=forward(X)\n",
    "\n",
    "    #loss\n",
    "    l=loss(Y,y_pred)\n",
    "\n",
    "    #gradient\n",
    "    dw=gradient(X,Y,y_pred)\n",
    "\n",
    "    #update weights\n",
    "    w-=learning_rate*dw\n",
    "    if epoch %2==0:\n",
    "        print(f'epoch{epoch+1}: w={w:.3f}, loss= {l:.8f}')\n",
    "\n",
    "print(f'Prediction after training : f(5) = {forward(5):.3f}')\n",
    "\n",
    "    \n",
    "\n",
    "\n",
    "    \n",
    "    "
   ]
  },
  {
   "cell_type": "markdown",
   "id": "41cde3fd-8a9d-475e-9567-aea68a81b243",
   "metadata": {},
   "source": [
    "<span style=\"color:blue\"> Let's see how this translates to the pytorch framework by computing gradient using backward leaving the loss computation and forward pass as manually for now."
   ]
  },
  {
   "cell_type": "code",
   "execution_count": 30,
   "id": "4e2acb59-9212-4ba2-b83e-4b37b2dadada",
   "metadata": {},
   "outputs": [
    {
     "name": "stdout",
     "output_type": "stream",
     "text": [
      "Prediction before training: f(5)=0.000\n",
      "epoch1: w=0.300, loss= 30.00000000\n",
      "epoch3: w=0.772, loss= 15.66018772\n",
      "epoch5: w=1.113, loss= 8.17471695\n",
      "epoch7: w=1.359, loss= 4.26725292\n",
      "epoch9: w=1.537, loss= 2.22753215\n",
      "epoch11: w=1.665, loss= 1.16278565\n",
      "epoch13: w=1.758, loss= 0.60698116\n",
      "epoch15: w=1.825, loss= 0.31684780\n",
      "epoch17: w=1.874, loss= 0.16539653\n",
      "epoch19: w=1.909, loss= 0.08633806\n",
      "epoch21: w=1.934, loss= 0.04506890\n",
      "epoch23: w=1.952, loss= 0.02352631\n",
      "epoch25: w=1.966, loss= 0.01228084\n",
      "epoch27: w=1.975, loss= 0.00641066\n",
      "epoch29: w=1.982, loss= 0.00334642\n",
      "epoch31: w=1.987, loss= 0.00174685\n",
      "epoch33: w=1.991, loss= 0.00091188\n",
      "epoch35: w=1.993, loss= 0.00047601\n",
      "epoch37: w=1.995, loss= 0.00024848\n",
      "epoch39: w=1.996, loss= 0.00012971\n",
      "epoch41: w=1.997, loss= 0.00006770\n",
      "epoch43: w=1.998, loss= 0.00003534\n",
      "epoch45: w=1.999, loss= 0.00001845\n",
      "epoch47: w=1.999, loss= 0.00000963\n",
      "epoch49: w=1.999, loss= 0.00000503\n",
      "epoch51: w=1.999, loss= 0.00000262\n",
      "epoch53: w=2.000, loss= 0.00000137\n",
      "epoch55: w=2.000, loss= 0.00000071\n",
      "epoch57: w=2.000, loss= 0.00000037\n",
      "epoch59: w=2.000, loss= 0.00000019\n",
      "epoch61: w=2.000, loss= 0.00000010\n",
      "epoch63: w=2.000, loss= 0.00000005\n",
      "epoch65: w=2.000, loss= 0.00000003\n",
      "epoch67: w=2.000, loss= 0.00000001\n",
      "epoch69: w=2.000, loss= 0.00000001\n",
      "epoch71: w=2.000, loss= 0.00000000\n",
      "epoch73: w=2.000, loss= 0.00000000\n",
      "epoch75: w=2.000, loss= 0.00000000\n",
      "epoch77: w=2.000, loss= 0.00000000\n",
      "epoch79: w=2.000, loss= 0.00000000\n",
      "epoch81: w=2.000, loss= 0.00000000\n",
      "epoch83: w=2.000, loss= 0.00000000\n",
      "epoch85: w=2.000, loss= 0.00000000\n",
      "epoch87: w=2.000, loss= 0.00000000\n",
      "epoch89: w=2.000, loss= 0.00000000\n",
      "epoch91: w=2.000, loss= 0.00000000\n",
      "epoch93: w=2.000, loss= 0.00000000\n",
      "epoch95: w=2.000, loss= 0.00000000\n",
      "epoch97: w=2.000, loss= 0.00000000\n",
      "epoch99: w=2.000, loss= 0.00000000\n",
      "Prediction after training : f(5) = 10.000\n"
     ]
    }
   ],
   "source": [
    "import torch\n",
    "\n",
    "# f=w*x\n",
    "X=torch.tensor([1,2,3,4], dtype=torch.float32)\n",
    "Y=torch.tensor([2,4,6,8], dtype=torch.float32)\n",
    "\n",
    "w=torch.tensor(0.0, dtype=torch.float32, requires_grad=True)\n",
    "\n",
    "#model prediction\n",
    "def forward(x): \n",
    "    return w*x\n",
    "\n",
    "#loss =MSE\n",
    "\n",
    "def loss(y,y_predicted):\n",
    "    return((y_predicted-y)**2).mean()\n",
    "\n",
    "#gradient : \n",
    "def gradient(x,y,y_predicted):\n",
    "    return np.dot(2*x,y_predicted-y).mean()\n",
    "\n",
    "print(f'Prediction before training: f(5)={forward(5):.3f}')\n",
    "\n",
    "#Training\n",
    "learning_rate = 0.01\n",
    "n_iters=100\n",
    "\n",
    "for epoch in range(n_iters):\n",
    "    #prediction=forward pass \n",
    "    y_pred=forward(X)\n",
    "\n",
    "    #loss\n",
    "    l=loss(Y,y_pred)\n",
    "\n",
    "    #gradient= Backward pass\n",
    "    l.backward() #dl/dw\n",
    "\n",
    "    #update weights\n",
    "    with torch.no_grad():\n",
    "        w-=learning_rate*w.grad\n",
    "\n",
    "    #zero gradient\n",
    "    w.grad.zero_()\n",
    "    \n",
    "    if epoch %2==0:\n",
    "        print(f'epoch{epoch+1}: w={w:.3f}, loss= {l:.8f}')\n",
    "\n",
    "print(f'Prediction after training : f(5) = {forward(5):.3f}')\n",
    "\n",
    "    \n",
    "\n",
    "\n",
    "    \n",
    "    "
   ]
  },
  {
   "cell_type": "markdown",
   "id": "6a4472a1-f55a-4d9f-88bc-9c5874b1c295",
   "metadata": {},
   "source": [
    "<span style=\"color:blue\">As we can see that this method is not as efficient as doing it manually "
   ]
  },
  {
   "cell_type": "markdown",
   "id": "8623d93b-89ac-4000-a073-a961288bf4de",
   "metadata": {},
   "source": [
    "<span style=\"color:blue\"> Now lets encorporate the loss and forward pass using pytorch module"
   ]
  },
  {
   "cell_type": "code",
   "execution_count": 31,
   "id": "72df8f5a-1880-4048-a2c0-e3a78e75b066",
   "metadata": {},
   "outputs": [
    {
     "name": "stdout",
     "output_type": "stream",
     "text": [
      "4 1\n",
      "Prediction before training: f(5)=0.131\n",
      "epoch1: w=0.357, loss= 29.84667778\n",
      "epoch3: w=0.814, loss= 14.38744164\n",
      "epoch5: w=1.131, loss= 6.94411182\n",
      "epoch7: w=1.352, loss= 3.36018634\n",
      "epoch9: w=1.505, loss= 1.63444066\n",
      "epoch11: w=1.612, loss= 0.80335093\n",
      "epoch13: w=1.686, loss= 0.40301198\n",
      "epoch15: w=1.738, loss= 0.21006858\n",
      "epoch17: w=1.774, loss= 0.11698116\n",
      "epoch19: w=1.799, loss= 0.07197370\n",
      "epoch21: w=1.817, loss= 0.05011751\n",
      "epoch23: w=1.830, loss= 0.03941014\n",
      "epoch25: w=1.839, loss= 0.03407263\n",
      "epoch27: w=1.846, loss= 0.03132283\n",
      "epoch29: w=1.850, loss= 0.02982105\n",
      "epoch31: w=1.854, loss= 0.02892222\n",
      "epoch33: w=1.857, loss= 0.02831589\n",
      "epoch35: w=1.859, loss= 0.02785236\n",
      "epoch37: w=1.861, loss= 0.02745970\n",
      "epoch39: w=1.862, loss= 0.02710311\n",
      "epoch41: w=1.863, loss= 0.02676594\n",
      "epoch43: w=1.864, loss= 0.02644010\n",
      "epoch45: w=1.865, loss= 0.02612161\n",
      "epoch47: w=1.866, loss= 0.02580859\n",
      "epoch49: w=1.867, loss= 0.02550017\n",
      "epoch51: w=1.868, loss= 0.02519578\n",
      "epoch53: w=1.869, loss= 0.02489522\n",
      "epoch55: w=1.870, loss= 0.02459835\n",
      "epoch57: w=1.871, loss= 0.02430506\n",
      "epoch59: w=1.871, loss= 0.02401526\n",
      "epoch61: w=1.872, loss= 0.02372891\n",
      "epoch63: w=1.873, loss= 0.02344601\n",
      "epoch65: w=1.874, loss= 0.02316653\n",
      "epoch67: w=1.874, loss= 0.02289031\n",
      "epoch69: w=1.875, loss= 0.02261743\n",
      "epoch71: w=1.876, loss= 0.02234779\n",
      "epoch73: w=1.877, loss= 0.02208133\n",
      "epoch75: w=1.877, loss= 0.02181810\n",
      "epoch77: w=1.878, loss= 0.02155801\n",
      "epoch79: w=1.879, loss= 0.02130096\n",
      "epoch81: w=1.880, loss= 0.02104699\n",
      "epoch83: w=1.880, loss= 0.02079610\n",
      "epoch85: w=1.881, loss= 0.02054816\n",
      "epoch87: w=1.882, loss= 0.02030318\n",
      "epoch89: w=1.882, loss= 0.02006114\n",
      "epoch91: w=1.883, loss= 0.01982198\n",
      "epoch93: w=1.884, loss= 0.01958567\n",
      "epoch95: w=1.885, loss= 0.01935213\n",
      "epoch97: w=1.885, loss= 0.01912145\n",
      "epoch99: w=1.886, loss= 0.01889347\n",
      "Prediction after training : f(5) = 9.766\n"
     ]
    }
   ],
   "source": [
    "import torch\n",
    "import torch.nn as nn # neural network module\n",
    "# f=w*x\n",
    "X=torch.tensor([[1],[2],[3],[4]], dtype=torch.float32)\n",
    "Y=torch.tensor([[2],[4],[6],[8]], dtype=torch.float32)\n",
    "\n",
    "X_test=torch.tensor([5], dtype=torch.float32)\n",
    "n_samples, n_features = X.shape\n",
    "print(n_samples, n_features)\n",
    "\n",
    "input_size=n_features\n",
    "output_size=n_features\n",
    "model=nn.Linear(input_size, output_size)\n",
    "\n",
    "#loss =MSE\n",
    "#gradient : \n",
    "def gradient(x,y,y_predicted):\n",
    "    return np.dot(2*x,y_predicted-y).mean()\n",
    "\n",
    "print(f'Prediction before training: f(5)={model(X_test).item():.3f}')\n",
    "\n",
    "#Training\n",
    "learning_rate = 0.01\n",
    "n_iters=100\n",
    "\n",
    "loss = nn.MSELoss()\n",
    "optimizer= torch.optim.SGD(model.parameters(), lr=learning_rate)\n",
    "for epoch in range(n_iters):\n",
    "    #prediction=forward pass \n",
    "    y_pred=model(X)\n",
    "\n",
    "    #loss\n",
    "    l=loss(Y,y_pred)\n",
    "\n",
    "    #gradient= Backward pass\n",
    "    l.backward() #dl/dw\n",
    "\n",
    "    #update weights\n",
    "    optimizer.step()\n",
    "    #zero gradient\n",
    "    optimizer.zero_grad()\n",
    "    \n",
    "    if epoch %2==0:\n",
    "        [w,b]=model.parameters()\n",
    "        print(f'epoch{epoch+1}: w={w[0][0]:.3f}, loss= {l:.8f}')\n",
    "\n",
    "print(f'Prediction after training : f(5) = {model(X_test).item():.3f}')\n",
    "\n",
    "    \n",
    "\n",
    "\n",
    "    \n",
    "    "
   ]
  },
  {
   "cell_type": "markdown",
   "id": "877dd040-aedf-4581-a62c-6f3faee9265c",
   "metadata": {},
   "source": [
    "<span style=\"color:blue\"> Here we have used the model from the module itself, but we can customize it as follow "
   ]
  },
  {
   "cell_type": "code",
   "execution_count": 32,
   "id": "130fc6ab-12c5-48fe-8ebb-880d295cff19",
   "metadata": {},
   "outputs": [
    {
     "name": "stdout",
     "output_type": "stream",
     "text": [
      "4 1\n",
      "Prediction before training: f(5)=-3.447\n",
      "epoch1: w=-0.234, loss= 55.52162170\n",
      "epoch3: w=0.389, loss= 26.76190567\n",
      "epoch5: w=0.822, loss= 12.91467190\n",
      "epoch7: w=1.123, loss= 6.24732018\n",
      "epoch9: w=1.332, loss= 3.03685331\n",
      "epoch11: w=1.477, loss= 1.49077260\n",
      "epoch13: w=1.578, loss= 0.74604261\n",
      "epoch15: w=1.649, loss= 0.38714239\n",
      "epoch17: w=1.698, loss= 0.21401006\n",
      "epoch19: w=1.733, loss= 0.13032314\n",
      "epoch21: w=1.757, loss= 0.08970562\n",
      "epoch23: w=1.774, loss= 0.06982809\n",
      "epoch25: w=1.787, loss= 0.05994007\n",
      "epoch27: w=1.796, loss= 0.05486553\n",
      "epoch29: w=1.802, loss= 0.05211221\n",
      "epoch31: w=1.807, loss= 0.05048028\n",
      "epoch33: w=1.811, loss= 0.04939189\n",
      "epoch35: w=1.813, loss= 0.04856873\n",
      "epoch37: w=1.816, loss= 0.04787694\n",
      "epoch39: w=1.818, loss= 0.04725181\n",
      "epoch41: w=1.819, loss= 0.04666230\n",
      "epoch43: w=1.821, loss= 0.04609346\n",
      "epoch45: w=1.822, loss= 0.04553780\n",
      "epoch47: w=1.824, loss= 0.04499200\n",
      "epoch49: w=1.825, loss= 0.04445421\n",
      "epoch51: w=1.826, loss= 0.04392352\n",
      "epoch53: w=1.827, loss= 0.04339956\n",
      "epoch55: w=1.828, loss= 0.04288203\n",
      "epoch57: w=1.829, loss= 0.04237066\n",
      "epoch59: w=1.830, loss= 0.04186555\n",
      "epoch61: w=1.831, loss= 0.04136641\n",
      "epoch63: w=1.832, loss= 0.04087323\n",
      "epoch65: w=1.833, loss= 0.04038594\n",
      "epoch67: w=1.834, loss= 0.03990448\n",
      "epoch69: w=1.835, loss= 0.03942873\n",
      "epoch71: w=1.836, loss= 0.03895867\n",
      "epoch73: w=1.837, loss= 0.03849416\n",
      "epoch75: w=1.838, loss= 0.03803528\n",
      "epoch77: w=1.839, loss= 0.03758182\n",
      "epoch79: w=1.840, loss= 0.03713376\n",
      "epoch81: w=1.841, loss= 0.03669105\n",
      "epoch83: w=1.842, loss= 0.03625364\n",
      "epoch85: w=1.843, loss= 0.03582143\n",
      "epoch87: w=1.844, loss= 0.03539436\n",
      "epoch89: w=1.845, loss= 0.03497240\n",
      "epoch91: w=1.846, loss= 0.03455544\n",
      "epoch93: w=1.847, loss= 0.03414349\n",
      "epoch95: w=1.848, loss= 0.03373641\n",
      "epoch97: w=1.849, loss= 0.03333424\n",
      "epoch99: w=1.849, loss= 0.03293680\n",
      "Prediction after training : f(5) = 9.691\n"
     ]
    }
   ],
   "source": [
    "import torch\n",
    "import torch.nn as nn # neural network module\n",
    "# f=w*x\n",
    "X=torch.tensor([[1],[2],[3],[4]], dtype=torch.float32)\n",
    "Y=torch.tensor([[2],[4],[6],[8]], dtype=torch.float32)\n",
    "\n",
    "X_test=torch.tensor([5], dtype=torch.float32)\n",
    "n_samples, n_features = X.shape\n",
    "print(n_samples, n_features)\n",
    "\n",
    "input_size=n_features\n",
    "output_size=n_features\n",
    "\n",
    "class LinearRegression(nn.Module):\n",
    "\n",
    "    def __init__(self, input_dim, output_dim):\n",
    "        super(LinearRegression,self).__init__()\n",
    "        self.lin = nn.Linear(input_dim, output_dim)\n",
    "\n",
    "    def forward(self, x):\n",
    "        return self.lin(x)\n",
    "    \n",
    "#model=nn.Linear(input_size, output_size)\n",
    "model=LinearRegression(input_size, output_size)\n",
    "#loss =MSE\n",
    "#gradient : \n",
    "def gradient(x,y,y_predicted):\n",
    "    return np.dot(2*x,y_predicted-y).mean()\n",
    "\n",
    "print(f'Prediction before training: f(5)={model(X_test).item():.3f}')\n",
    "\n",
    "#Training\n",
    "learning_rate = 0.01\n",
    "n_iters=100\n",
    "\n",
    "loss = nn.MSELoss()\n",
    "optimizer= torch.optim.SGD(model.parameters(), lr=learning_rate)\n",
    "for epoch in range(n_iters):\n",
    "    #prediction=forward pass \n",
    "    y_pred=model(X)\n",
    "\n",
    "    #loss\n",
    "    l=loss(Y,y_pred)\n",
    "\n",
    "    #gradient= Backward pass\n",
    "    l.backward() #dl/dw\n",
    "\n",
    "    #update weights\n",
    "    optimizer.step()\n",
    "    #zero gradient\n",
    "    optimizer.zero_grad()\n",
    "    \n",
    "    if epoch %2==0:\n",
    "        [w,b]=model.parameters()\n",
    "        print(f'epoch{epoch+1}: w={w[0][0]:.3f}, loss= {l:.8f}')\n",
    "\n",
    "print(f'Prediction after training : f(5) = {model(X_test).item():.3f}')\n",
    "\n",
    "    \n",
    "\n",
    "\n",
    "    \n",
    "    "
   ]
  }
 ],
 "metadata": {
  "kernelspec": {
   "display_name": "Python [conda env:Coffea-Santosh]",
   "language": "python",
   "name": "conda-env-Coffea-Santosh-py"
  },
  "language_info": {
   "codemirror_mode": {
    "name": "ipython",
    "version": 3
   },
   "file_extension": ".py",
   "mimetype": "text/x-python",
   "name": "python",
   "nbconvert_exporter": "python",
   "pygments_lexer": "ipython3",
   "version": "3.10.14"
  }
 },
 "nbformat": 4,
 "nbformat_minor": 5
}
