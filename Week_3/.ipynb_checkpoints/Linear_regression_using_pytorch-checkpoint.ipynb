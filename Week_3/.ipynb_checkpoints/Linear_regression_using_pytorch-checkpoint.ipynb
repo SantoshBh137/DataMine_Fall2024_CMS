{
 "cells": [
  {
   "cell_type": "markdown",
   "id": "4fd7d7a5",
   "metadata": {},
   "source": [
    "<h1 style=\"color:red;\">Week 3</h1>\n",
    "\n",
    "This week we will adapt the linear regression model using only the pytorch module and compare it with the case when the prediction is done analytically"
   ]
  },
  {
   "cell_type": "code",
   "execution_count": 1,
   "id": "aa3198a8",
   "metadata": {},
   "outputs": [
    {
     "name": "stdout",
     "output_type": "stream",
     "text": [
      "4 1\n"
     ]
    }
   ],
   "source": [
    "import torch\n",
    "import torch.nn as nn # this is the neural network module from pytorch\n",
    "\n",
    "#Define the input variables x's and y's \n",
    "x=torch.tensor([[1],[2],[3],[4]], dtype=torch.float32)\n",
    "y_actual=torch.tensor([[2],[4],[6],[8]], dtype=torch.float32)\n",
    "\n",
    "#define the test variable\n",
    "x_test=torch.tensor([5], dtype=torch.float32)\n",
    "\n",
    "\n",
    "#Get the number of samples(row) amd features (columns)\n",
    "n_sample, n_features =x.shape\n",
    "print(n_sample, n_features)"
   ]
  },
  {
   "cell_type": "code",
   "execution_count": 2,
   "id": "dc83105e",
   "metadata": {},
   "outputs": [
    {
     "name": "stdout",
     "output_type": "stream",
     "text": [
      "Prediction before training: f(5)=1.854\n"
     ]
    }
   ],
   "source": [
    "#define the input and output size\n",
    "input_size=n_features\n",
    "output_size=1\n",
    "\n",
    "#Define linear regression model using single linear layer\n",
    "class LinearRegression(nn.Module):\n",
    "\n",
    "    def __init__(self, input_size, output_size):\n",
    "        super(LinearRegression,self).__init__()\n",
    "        self.model = nn.Sequential(\n",
    "            nn.Linear(input_size, output_size, bias=False)\n",
    "        )\n",
    "\n",
    "    def forward(self, x):\n",
    "        return self.model(x)\n",
    "    \n",
    "model=LinearRegression(input_size,output_size)\n",
    "\n",
    "print(f'Prediction before training: f(5)={model(x_test).item():.3f}')"
   ]
  },
  {
   "cell_type": "markdown",
   "id": "60923fc5",
   "metadata": {},
   "source": [
    "# Linear Regression Model\n",
    "\n",
    "- **Linear Layer**: \n",
    "    - The `nn.Linear(input_size, output_size)` creates a single layer where the model learns the weights and bias.\n",
    "    - The formula for the linear regression model is \\( y = w * x + b \\), where `w` is the weight and `b` is the bias.\n",
    "  \n",
    "- **`nn.Sequential`**: \n",
    "    - This is a container used to organize layers.\n",
    "    - In this model, it's used to encapsulate the linear layer. Although not strictly necessary for a single layer, it allows for easy expansion if you want to add more layers in the future.\n",
    "\n",
    "- **`forward` method**: \n",
    "    - Defines how input data (`x`) is passed through the model.\n",
    "    - The `forward` method is invoked when making predictions, passing the input data through the linear layer.\n",
    "\n",
    "- **Model Structure**:\n",
    "    - The model consists of a single layer defined using `nn.Linear`.\n",
    "    - The model is trained by adjusting the weights and bias to minimize the error between predicted and actual values.\n"
   ]
  },
  {
   "cell_type": "code",
   "execution_count": 3,
   "id": "01f3e152",
   "metadata": {},
   "outputs": [
    {
     "name": "stdout",
     "output_type": "stream",
     "text": [
      "Epoch 1: w = 0.615, loss = 19.908747\n",
      "Epoch 3: w = 0.999, loss = 10.392490\n",
      "Epoch 5: w = 1.277, loss = 5.424946\n",
      "Epoch 7: w = 1.478, loss = 2.831855\n",
      "Epoch 9: w = 1.623, loss = 1.478246\n",
      "Epoch 11: w = 1.727, loss = 0.771654\n",
      "Epoch 13: w = 1.803, loss = 0.402808\n",
      "Epoch 15: w = 1.858, loss = 0.210268\n",
      "Epoch 17: w = 1.897, loss = 0.109761\n",
      "Epoch 19: w = 1.926, loss = 0.057296\n",
      "Epoch 21: w = 1.946, loss = 0.029909\n",
      "Epoch 23: w = 1.961, loss = 0.015613\n",
      "Epoch 25: w = 1.972, loss = 0.008150\n",
      "Epoch 27: w = 1.980, loss = 0.004254\n",
      "Epoch 29: w = 1.985, loss = 0.002221\n",
      "Epoch 31: w = 1.989, loss = 0.001159\n",
      "Epoch 33: w = 1.992, loss = 0.000605\n",
      "Epoch 35: w = 1.994, loss = 0.000316\n",
      "Epoch 37: w = 1.996, loss = 0.000165\n",
      "Epoch 39: w = 1.997, loss = 0.000086\n",
      "Epoch 41: w = 1.998, loss = 0.000045\n",
      "Epoch 43: w = 1.998, loss = 0.000023\n",
      "Epoch 45: w = 1.999, loss = 0.000012\n",
      "Epoch 47: w = 1.999, loss = 0.000006\n",
      "Epoch 49: w = 1.999, loss = 0.000003\n",
      "Epoch 51: w = 2.000, loss = 0.000002\n",
      "Epoch 53: w = 2.000, loss = 0.000001\n",
      "Epoch 55: w = 2.000, loss = 0.000000\n",
      "Epoch 57: w = 2.000, loss = 0.000000\n",
      "Epoch 59: w = 2.000, loss = 0.000000\n",
      "Prediction after training: f(5) = 10.000\n"
     ]
    }
   ],
   "source": [
    "# Training process for the linear regression model\n",
    "\n",
    "# Set learning rate (step size) and number of iterations (epochs)\n",
    "learning_rate = 0.01   # Controls how much to adjust the model with each step\n",
    "iteration = 60       # Number of passes over the dataset\n",
    "\n",
    "# Define the loss function\n",
    "# nn.MSELoss() computes the Mean Squared Error, commonly used for regression tasks\n",
    "loss = nn.MSELoss()\n",
    "\n",
    "# Define the optimizer\n",
    "# SGD stands for Stochastic Gradient Descent, which updates model parameters to minimize the loss\n",
    "optimizer = torch.optim.SGD(model.parameters(), lr=learning_rate)\n",
    "\n",
    "#save the loss value per epoch for plotting\n",
    "loss_value=[]\n",
    "\n",
    "# Training loop\n",
    "for epoch in range(iteration):\n",
    "    # Forward pass: compute the predicted outputs (y_pred) based on the current model parameters\n",
    "    y_pred = model(x)\n",
    "    \n",
    "    # Compute the loss: difference between predicted (y_pred) and actual (y_actual) outputs\n",
    "    l = loss(y_actual, y_pred)\n",
    "    loss_value.append(l.item())\n",
    "    \n",
    "    # Backward pass: compute gradients of the loss with respect to model parameters\n",
    "    l.backward()  # This computes the gradients of the loss function (dl/dw)\n",
    "\n",
    "    # Update the model parameters using the computed gradients\n",
    "    optimizer.step()  # Adjusts the weights (and bias) based on the gradients\n",
    "\n",
    "    # Zero out the gradients to prevent accumulation\n",
    "    optimizer.zero_grad()\n",
    "\n",
    "    # Print progress every 2 iterations (epochs)\n",
    "    if epoch % 2 == 0:\n",
    "        # Extract the weight (w) from the model's parameters and print it along with the loss\n",
    "        [w] = model.parameters()\n",
    "        print(f'Epoch {epoch + 1}: w = {w[0][0]:.3f}, loss = {l:.6f}')\n",
    "\n",
    "# After training, make a prediction using the trained model\n",
    "# Here, we predict the output for x_test = 5\n",
    "print(f'Prediction after training: f(5) = {model(x_test).item():.3f}')\n"
   ]
  },
  {
   "cell_type": "code",
   "execution_count": 5,
   "id": "bc87165f",
   "metadata": {},
   "outputs": [
    {
     "data": {
      "image/png": "[encoded data removed]",
      "text/plain": [
       "<Figure size 640x480 with 1 Axes>"
      ]
     },
     "metadata": {},
     "output_type": "display_data"
    }
   ],
   "source": [
    "#plot the loss value per epoch using matplotlib\n",
    "\n",
    "import numpy as np \n",
    "import matplotlib.pyplot as plt\n",
    "\n",
    "\n",
    "plt.plot(loss_value, marker='o')\n",
    "plt.title('Loss vs epoch')\n",
    "plt.xlabel('epoch')\n",
    "plt.ylabel('loss')\n",
    "plt.grid(True)\n",
    "plt.show()"
   ]
  },
  {
   "cell_type": "code",
   "execution_count": null,
   "id": "45561a54",
   "metadata": {},
   "outputs": [],
   "source": []
  }
 ],
 "metadata": {
  "kernelspec": {
   "display_name": "Coffea-Santosh",
   "language": "python",
   "name": "coffea-santosh"
  },
  "language_info": {
   "codemirror_mode": {
    "name": "ipython",
    "version": 3
   },
   "file_extension": ".py",
   "mimetype": "text/x-python",
   "name": "python",
   "nbconvert_exporter": "python",
   "pygments_lexer": "ipython3",
   "version": "3.10.14"
  }
 },
 "nbformat": 4,
 "nbformat_minor": 5
}
